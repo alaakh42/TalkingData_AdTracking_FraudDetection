{
 "cells": [
  {
   "cell_type": "code",
   "execution_count": 3,
   "metadata": {},
   "outputs": [],
   "source": [
    "% matplotlib inline\n",
    "import numpy as numpy\n",
    "import pandas as pd\n",
    "import matplotlib.pyplot as plt \n",
    "import os\n",
    "\n",
    "path = 'data/talkingdata-adtracking-fraud-detection/'\n",
    "df = pd.read_csv(path + 'train_sample.csv')\n",
    "# print '\\n', df.head(5)\n",
    "# print 'Columns Names: >>', df.columns\n",
    "# print df.describe()\n",
    "\n",
    "# print df.groupby( by=[\"device\"])[\"app\"].count()\n",
    "# print len(df.device.unique())\n",
    "\n",
    "\n",
    "# print df.groupby( by=[\"ip\"])[\"app\"].count()\n",
    "# print len(df.ip.unique())\n",
    "\n"
   ]
  },
  {
   "cell_type": "code",
   "execution_count": 4,
   "metadata": {},
   "outputs": [
    {
     "data": {
      "text/plain": [
       "<matplotlib.axes._subplots.AxesSubplot at 0x7fe48e408a50>"
      ]
     },
     "execution_count": 4,
     "metadata": {},
     "output_type": "execute_result"
    },
    {
     "data": {
      "image/png": "[encoded data removed]",
      "text/plain": [
       "<matplotlib.figure.Figure at 0x7fe48e4081d0>"
      ]
     },
     "metadata": {},
     "output_type": "display_data"
    }
   ],
   "source": [
    "\n",
    "# plt.scatter(df[\"ip\"], df[\"click_time\"])\n",
    "import seaborn as sns\n",
    "correlation_dataframe = df.copy()\n",
    "# correlation_dataframe[\"target\"] = df[\"is_attributed\"]\n",
    "sns.heatmap(correlation_dataframe.corr())"
   ]
  },
  {
   "cell_type": "code",
   "execution_count": 5,
   "metadata": {},
   "outputs": [
    {
     "data": {
      "text/html": [
       "<div>\n",
       "<style>\n",
       "    .dataframe thead tr:only-child th {\n",
       "        text-align: right;\n",
       "    }\n",
       "\n",
       "    .dataframe thead th {\n",
       "        text-align: left;\n",
       "    }\n",
       "\n",
       "    .dataframe tbody tr th {\n",
       "        vertical-align: top;\n",
       "    }\n",
       "</style>\n",
       "<table border=\"1\" class=\"dataframe\">\n",
       "  <thead>\n",
       "    <tr style=\"text-align: right;\">\n",
       "      <th></th>\n",
       "      <th>ip</th>\n",
       "      <th>app</th>\n",
       "      <th>device</th>\n",
       "      <th>os</th>\n",
       "      <th>channel</th>\n",
       "      <th>is_attributed</th>\n",
       "    </tr>\n",
       "  </thead>\n",
       "  <tbody>\n",
       "    <tr>\n",
       "      <th>ip</th>\n",
       "      <td>1.000000</td>\n",
       "      <td>0.010400</td>\n",
       "      <td>-0.001499</td>\n",
       "      <td>-0.000470</td>\n",
       "      <td>0.007563</td>\n",
       "      <td>0.054955</td>\n",
       "    </tr>\n",
       "    <tr>\n",
       "      <th>app</th>\n",
       "      <td>0.010400</td>\n",
       "      <td>1.000000</td>\n",
       "      <td>0.248376</td>\n",
       "      <td>0.247160</td>\n",
       "      <td>-0.028238</td>\n",
       "      <td>0.064426</td>\n",
       "    </tr>\n",
       "    <tr>\n",
       "      <th>device</th>\n",
       "      <td>-0.001499</td>\n",
       "      <td>0.248376</td>\n",
       "      <td>1.000000</td>\n",
       "      <td>0.924456</td>\n",
       "      <td>-0.035398</td>\n",
       "      <td>-0.000695</td>\n",
       "    </tr>\n",
       "    <tr>\n",
       "      <th>os</th>\n",
       "      <td>-0.000470</td>\n",
       "      <td>0.247160</td>\n",
       "      <td>0.924456</td>\n",
       "      <td>1.000000</td>\n",
       "      <td>-0.033175</td>\n",
       "      <td>0.006183</td>\n",
       "    </tr>\n",
       "    <tr>\n",
       "      <th>channel</th>\n",
       "      <td>0.007563</td>\n",
       "      <td>-0.028238</td>\n",
       "      <td>-0.035398</td>\n",
       "      <td>-0.033175</td>\n",
       "      <td>1.000000</td>\n",
       "      <td>-0.023336</td>\n",
       "    </tr>\n",
       "    <tr>\n",
       "      <th>is_attributed</th>\n",
       "      <td>0.054955</td>\n",
       "      <td>0.064426</td>\n",
       "      <td>-0.000695</td>\n",
       "      <td>0.006183</td>\n",
       "      <td>-0.023336</td>\n",
       "      <td>1.000000</td>\n",
       "    </tr>\n",
       "  </tbody>\n",
       "</table>\n",
       "</div>"
      ],
      "text/plain": [
       "                     ip       app    device        os   channel  is_attributed\n",
       "ip             1.000000  0.010400 -0.001499 -0.000470  0.007563       0.054955\n",
       "app            0.010400  1.000000  0.248376  0.247160 -0.028238       0.064426\n",
       "device        -0.001499  0.248376  1.000000  0.924456 -0.035398      -0.000695\n",
       "os            -0.000470  0.247160  0.924456  1.000000 -0.033175       0.006183\n",
       "channel        0.007563 -0.028238 -0.035398 -0.033175  1.000000      -0.023336\n",
       "is_attributed  0.054955  0.064426 -0.000695  0.006183 -0.023336       1.000000"
      ]
     },
     "execution_count": 5,
     "metadata": {},
     "output_type": "execute_result"
    }
   ],
   "source": [
    "correlation_dataframe.corr()"
   ]
  },
  {
   "cell_type": "code",
   "execution_count": null,
   "metadata": {
    "collapsed": true
   },
   "outputs": [],
   "source": []
  }
 ],
 "metadata": {
  "kernelspec": {
   "display_name": "Python 2",
   "language": "python",
   "name": "python2"
  },
  "language_info": {
   "codemirror_mode": {
    "name": "ipython",
    "version": 2
   },
   "file_extension": ".py",
   "mimetype": "text/x-python",
   "name": "python",
   "nbconvert_exporter": "python",
   "pygments_lexer": "ipython2",
   "version": "2.7.13"
  }
 },
 "nbformat": 4,
 "nbformat_minor": 2
}
